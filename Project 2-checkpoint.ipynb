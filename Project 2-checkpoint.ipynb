{
 "cells": [
  {
   "cell_type": "code",
   "execution_count": null,
   "metadata": {},
   "outputs": [],
   "source": [
    "import cv2\n",
    "\n",
    "# create cascade classifier\n",
    "\n",
    "face_cascade=cv2.CascadeClassifier(\"C:\\\\Users\\\\Legion\\\\Downloads\\\\haarcascade_frontalface_default.xml\")\n",
    "eye_cascade=cv2.CascadeClassifier(\"C:\\\\Users\\\\Legion\\\\Downloads\\\\haarcascade_eye.xml\")\n",
    "\n",
    "video=cv2.VideoCapture(0)\n",
    "a=0\n",
    "while True:\n",
    "    a=a+1\n",
    "    check,frame=video.read()\n",
    "    \n",
    "    gray_img=cv2.cvtColor(frame,cv2.COLOR_BGR2GRAY)\n",
    "\n",
    "#search for coordinates\n",
    "\n",
    "    faces= face_cascade.detectMultiScale(gray_img,scaleFactor = 1.05,minNeighbors = 5)\n",
    "    for x,y,w,h in faces:\n",
    "        img =  cv2.rectangle(frame,(x,y),(x+w,y+h),(255,0,0),2)\n",
    "        \n",
    "        roi_gray=gray_img[y:y+h,x:x+w]\n",
    "    \n",
    "        roi_color=img[y:y+h,x:x+w]\n",
    "    \n",
    "        eyes= eye_cascade.detectMultiScale(roi_gray,scaleFactor = 1.3,minNeighbors = 5)\n",
    "    \n",
    "        for (ex,ey,ew,eh) in eyes:\n",
    "            cv2.rectangle(roi_color,(ex,ey),(ex+ew,ey+eh),(0,255,0),3)\n",
    "    \n",
    "    cv2.imshow('imgage',frame)\n",
    "    k=cv2.waitKey(1)\n",
    "    if k==ord(\"q\"):\n",
    "        break\n",
    "video.release()\n",
    "cv2.destroyAllWindows()   "
   ]
  }
 ],
 "metadata": {
  "kernelspec": {
   "display_name": "Python 3",
   "language": "python",
   "name": "python3"
  },
  "language_info": {
   "codemirror_mode": {
    "name": "ipython",
    "version": 3
   },
   "file_extension": ".py",
   "mimetype": "text/x-python",
   "name": "python",
   "nbconvert_exporter": "python",
   "pygments_lexer": "ipython3",
   "version": "3.7.6"
  }
 },
 "nbformat": 4,
 "nbformat_minor": 4
}
